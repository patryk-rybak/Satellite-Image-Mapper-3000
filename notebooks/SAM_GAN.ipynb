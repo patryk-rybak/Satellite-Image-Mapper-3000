{
  "cells": [
    {
      "cell_type": "code",
      "execution_count": 1,
      "metadata": {
        "id": "A43ZXegx_I5h"
      },
      "outputs": [],
      "source": [
        "\n",
        "import os\n",
        "import torch\n",
        "import gc\n",
        "import matplotlib.pyplot as plt\n",
        "import albumentations as A\n",
        "import numpy as np\n",
        "import torch\n",
        "import torch.nn as nn\n",
        "import torch.optim as optim\n",
        "from PIL import Image\n",
        "from torch.utils.data import Dataset, DataLoader\n",
        "from albumentations.pytorch import ToTensorV2\n",
        "\n",
        "device = \"cuda\" if torch.cuda.is_available() else \"cpu\""
      ]
    },
    {
      "cell_type": "code",
      "execution_count": 1,
      "metadata": {
        "colab": {
          "base_uri": "https://localhost:8080/"
        },
        "id": "kARzkpR2_jdp",
        "outputId": "ecdb5e21-9aea-4ed3-8d3c-e6a014dedfd8"
      },
      "outputs": [
        {
          "name": "stderr",
          "output_type": "stream",
          "text": [
            "usage: gdown [-h] [-V] [-O OUTPUT] [-q] [--fuzzy] [--id] [--proxy PROXY]\n",
            "             [--speed SPEED] [--no-cookies] [--no-check-certificate]\n",
            "             [--continue] [--folder] [--remaining-ok] [--format FORMAT]\n",
            "             [--user-agent USER_AGENT]\n",
            "             url_or_id\n",
            "gdown: error: the following arguments are required: url_or_id\n"
          ]
        }
      ],
      "source": [
        "!gdown \n"
      ]
    },
    {
      "cell_type": "code",
      "execution_count": null,
      "metadata": {
        "colab": {
          "base_uri": "https://localhost:8080/"
        },
        "id": "ASWDH18Y_lSR",
        "outputId": "7e212a1b-20bf-4cd4-dc4a-6b7b2a625fe8"
      },
      "outputs": [],
      "source": [
        "!7z x maps.zip\n"
      ]
    },
    {
      "cell_type": "code",
      "execution_count": 4,
      "metadata": {
        "colab": {
          "base_uri": "https://localhost:8080/"
        },
        "id": "IdXVOi5S_nYu",
        "outputId": "3a0903cd-f041-4fdd-8888-5fa1d06cc88b"
      },
      "outputs": [
        {
          "name": "stdout",
          "output_type": "stream",
          "text": [
            "train  val\n"
          ]
        }
      ],
      "source": [
        "!ls maps\n"
      ]
    },
    {
      "cell_type": "code",
      "execution_count": 5,
      "metadata": {
        "id": "I-DTyDv_SY4B"
      },
      "outputs": [],
      "source": [
        "class ImageFolderDataset(Dataset):\n",
        "    def __init__(self, folder_path, transform=None):\n",
        "        self.folder_path = folder_path\n",
        "        self.transform = transform\n",
        "        self.image_files = [f for f in os.listdir(folder_path) if f.endswith(\".jpg\")]\n",
        "\n",
        "    def __len__(self):\n",
        "        return len(self.image_files)\n",
        "\n",
        "    def __getitem__(self, idx):\n",
        "        img_path = os.path.join(self.folder_path, self.image_files[idx])\n",
        "        image = Image.open(img_path)\n",
        "        width, height = image.size\n",
        "        half_width = width // 2\n",
        "        left_image = image.crop((0, 0, half_width, height))\n",
        "        right_image = image.crop((half_width, 0, width, height))\n",
        "\n",
        "        if self.transform:\n",
        "            transformed = self.transform(image=np.array(left_image), image0=np.array(right_image))\n",
        "            left_image, right_image = transformed['image'], transformed['image0']\n",
        "\n",
        "        return left_image,right_image\n"
      ]
    },
    {
      "cell_type": "code",
      "execution_count": 6,
      "metadata": {
        "id": "UwYfmKge_sHZ"
      },
      "outputs": [],
      "source": [
        "# # [-1, 1]\n",
        "# def normalize(x, **kwargs):\n",
        "#     return ((x / 127.5) - 1).astype(np.float32)\n",
        "\n",
        "# # [-1, 1]\n",
        "# def denormalize(x, **kwargs):\n",
        "#     # return torch.clamp((x + 1) * 255 / 2, 0, 255).to(torch.uint8)\n",
        "#     return torch.clamp(((x * 255.0) + 255) / 2, 0, 255).to(torch.uint8)\n",
        "\n",
        "[0, 1]\n",
        "def normalize(x, **kwargs):\n",
        "    return (x / 255.0).astype(np.float32)\n",
        "\n",
        "[0, 1]\n",
        "def denormalize(x, **kwargs):\n",
        "    return torch.clamp(x * 255, 0, 255).to(torch.uint8)\n",
        "\n",
        "# https://albumentations.ai/docs/api_reference/augmentations/\n",
        "transform = A.Compose([\n",
        "    A.Resize(256, 256),\n",
        "    A.Rotate(limit=40),\n",
        "    A.Lambda(image=normalize),\n",
        "    ToTensorV2(),\n",
        "], additional_targets={'image0': 'image'})\n"
      ]
    },
    {
      "cell_type": "code",
      "execution_count": 7,
      "metadata": {
        "id": "d_GUcEdM__-B"
      },
      "outputs": [],
      "source": [
        "\n",
        "train_path = 'maps/train'\n",
        "valid_path = 'maps/val'\n",
        "dataset_train = ImageFolderDataset(folder_path=train_path, transform=transform)\n",
        "dataset_valid = ImageFolderDataset(folder_path=valid_path, transform=transform)\n",
        "\n",
        "train_batch_size = 4\n",
        "valid_batch_size = 2\n",
        "\n",
        "dataloader_train = DataLoader(dataset_train, batch_size=train_batch_size, shuffle=False)\n",
        "dataloader_valid = DataLoader(dataset_valid, batch_size=valid_batch_size, shuffle=False)\n"
      ]
    },
    {
      "cell_type": "code",
      "execution_count": 8,
      "metadata": {
        "id": "dtg14AdpR2QI"
      },
      "outputs": [],
      "source": [
        "\n",
        "def show_images3(left_images, center_images, right_images, title=None):\n",
        "    fig, axes = plt.subplots(len(left_images), 3, figsize=(7.5, 5))\n",
        "    for i, (left_img, center_img, right_img) in enumerate(zip(left_images, center_images, right_images)):\n",
        "        left_img = left_img.permute(1, 2, 0)\n",
        "        center_img = center_img.permute(1, 2, 0)\n",
        "        right_img = right_img.permute(1, 2, 0)\n",
        "        axes[i, 0].imshow(left_img)\n",
        "        axes[i, 1].imshow(center_img)\n",
        "        axes[i, 2].imshow(right_img)\n",
        "        axes[i, 0].axis('off')\n",
        "        axes[i, 1].axis('off')\n",
        "        axes[i, 2].axis('off')\n",
        "    plt.subplots_adjust(wspace=0.1, hspace=0.1)\n",
        "    if title is not None:\n",
        "        fig.suptitle(f\"{title}\")\n",
        "    plt.show()\n"
      ]
    },
    {
      "cell_type": "code",
      "execution_count": null,
      "metadata": {
        "colab": {
          "base_uri": "https://localhost:8080/"
        },
        "id": "G7RxZIgbWaoB",
        "outputId": "59981dc6-237f-4c2d-db1c-cd00e4b0f254"
      },
      "outputs": [],
      "source": [
        "right_images = []\n",
        "for left_image, right_image in dataloader_train:\n",
        "    right_images.append(right_image)\n",
        "    if len(right_images) >= 4:\n",
        "        break\n",
        "\n",
        "# Konwersja do numpy array i wyświetlenie\n",
        "right_images_np = [img.clone().detach().to(device) for img in right_images[:4]]"
      ]
    },
    {
      "cell_type": "code",
      "execution_count": null,
      "metadata": {
        "colab": {
          "base_uri": "https://localhost:8080/",
          "height": 440
        },
        "id": "7k8u4mqhR4WE",
        "outputId": "f73b6fae-6779-4ff2-f86e-30b4e8d0659b"
      },
      "outputs": [],
      "source": [
        "images = next(iter(dataloader_valid))\n",
        "left_images, right_images = images\n",
        "print(left_images.shape)\n",
        "left_images = denormalize(left_images)\n",
        "right_images = denormalize(right_images)\n",
        "show_images3(left_images,left_images, right_images)"
      ]
    },
    {
      "cell_type": "code",
      "execution_count": 12,
      "metadata": {
        "id": "yINn5yyEOG2e"
      },
      "outputs": [],
      "source": [
        "class ContentEncoder(nn.Module):\n",
        "    def __init__(self):\n",
        "        super(ContentEncoder, self).__init__()\n",
        "        self.conv1 = nn.Sequential(\n",
        "            nn.Conv2d(3, 64, kernel_size=7, stride=1, padding=3),\n",
        "            nn.InstanceNorm2d(64),\n",
        "            nn.ReLU(inplace=True)\n",
        "        )\n",
        "        self.conv2 = nn.Sequential(\n",
        "            nn.Conv2d(64, 128, kernel_size=3, stride=2, padding=1),\n",
        "            nn.InstanceNorm2d(128),\n",
        "            nn.ReLU(inplace=True)\n",
        "        )\n",
        "        self.conv3 = nn.Sequential(\n",
        "            nn.Conv2d(128, 256, kernel_size=3, stride=2, padding=1),\n",
        "            nn.InstanceNorm2d(256),\n",
        "            nn.ReLU(inplace=True)\n",
        "        )\n",
        "\n",
        "    def forward(self, x):\n",
        "        skip1 = self.conv1(x)\n",
        "        skip2 = self.conv2(skip1)\n",
        "        skip3 = self.conv3(skip2)\n",
        "        return skip3, skip1, skip2\n",
        "\n",
        "class StyleEncoder(nn.Module):\n",
        "    def __init__(self):\n",
        "        super(StyleEncoder, self).__init__()\n",
        "        self.layers = nn.Sequential(\n",
        "            nn.Conv2d(3, 64, kernel_size=7, stride=1, padding=3),\n",
        "            nn.InstanceNorm2d(64),\n",
        "            nn.ReLU(inplace=True),\n",
        "            nn.Conv2d(64, 128, kernel_size=3, stride=2, padding=1),\n",
        "            nn.InstanceNorm2d(128),\n",
        "            nn.ReLU(inplace=True),\n",
        "            nn.Conv2d(128, 256, kernel_size=3, stride=2, padding=1),\n",
        "            nn.InstanceNorm2d(256),\n",
        "            nn.ReLU(inplace=True)\n",
        "        )\n",
        "\n",
        "    def forward(self, x):\n",
        "        return self.layers(x)\n",
        "\n",
        "class Decoder(nn.Module):\n",
        "    def __init__(self):\n",
        "        super(Decoder, self).__init__()\n",
        "        self.upconv1 = nn.Sequential(\n",
        "            nn.ConvTranspose2d(512, 256, kernel_size=3, stride=2, padding=1, output_padding=1),\n",
        "            nn.InstanceNorm2d(256),\n",
        "            nn.ReLU(inplace=True)\n",
        "        )\n",
        "        self.upconv2 = nn.Sequential(\n",
        "            nn.ConvTranspose2d(256 + 128, 128, kernel_size=3, stride=2, padding=1, output_padding=1),\n",
        "            nn.InstanceNorm2d(128),\n",
        "            nn.ReLU(inplace=True)\n",
        "        )\n",
        "        self.upconv3 = nn.Sequential(\n",
        "            nn.ConvTranspose2d(128 + 64, 64, kernel_size=3, stride=1, padding=1),\n",
        "            nn.InstanceNorm2d(64),\n",
        "            nn.ReLU(inplace=True)\n",
        "        )\n",
        "        self.final_conv = nn.Sequential(\n",
        "            nn.Conv2d(64, 3, kernel_size=7, stride=1, padding=3),\n",
        "            nn.Tanh()\n",
        "        )\n",
        "\n",
        "    def forward(self, content, style, skip1, skip2):\n",
        "        combined = torch.cat((content, style), dim=1)\n",
        "        up1 = self.upconv1(combined)\n",
        "        up1 = torch.cat((up1, skip2), dim=1)\n",
        "        up2 = self.upconv2(up1)\n",
        "        up2 = torch.cat((up2, skip1), dim=1)\n",
        "        up3 = self.upconv3(up2)\n",
        "        return self.final_conv(up3)\n",
        "\n",
        "class SAMGANGenerator(nn.Module):\n",
        "    def __init__(self):\n",
        "        super(SAMGANGenerator, self).__init__()\n",
        "        self.content_encoder = ContentEncoder()\n",
        "        self.style_encoder1 = StyleEncoder()\n",
        "        self.style_encoder2 = StyleEncoder()\n",
        "        self.style_encoder3 = StyleEncoder()\n",
        "        self.style_encoder4 = StyleEncoder()\n",
        "        self.decoder = Decoder()\n",
        "\n",
        "    def forward(self, x):\n",
        "        content, skip1, skip2 = self.content_encoder(x)\n",
        "        style1 = self.style_encoder1(right_images_np[0])\n",
        "        style2 = self.style_encoder2(right_images_np[1])\n",
        "        style3 = self.style_encoder3(right_images_np[2])\n",
        "        style4 = self.style_encoder4(right_images_np[3])\n",
        "        final_style = (style1 + style2 + style3 + style4) / 4\n",
        "        return self.decoder(content, final_style, skip1, skip2)\n",
        "\n",
        "class MultiScaleDiscriminator(nn.Module):\n",
        "    def __init__(self):\n",
        "        super(MultiScaleDiscriminator, self).__init__()\n",
        "        self.layers = nn.Sequential(\n",
        "            nn.Conv2d(3, 64, kernel_size=4, stride=2, padding=1),\n",
        "            nn.LeakyReLU(0.2, inplace=True),\n",
        "            nn.Conv2d(64, 128, kernel_size=4, stride=2, padding=1),\n",
        "            nn.InstanceNorm2d(128),\n",
        "            nn.LeakyReLU(0.2, inplace=True),\n",
        "            nn.Conv2d(128, 256, kernel_size=4, stride=2, padding=1),\n",
        "            nn.InstanceNorm2d(256),\n",
        "            nn.LeakyReLU(0.2, inplace=True),\n",
        "            nn.Conv2d(256, 512, kernel_size=4, stride=2, padding=1),\n",
        "            nn.InstanceNorm2d(512),\n",
        "            nn.LeakyReLU(0.2, inplace=True),\n",
        "            nn.Conv2d(512, 1, kernel_size=4, stride=1, padding=1)\n",
        "        )\n",
        "\n",
        "    def forward(self, x):\n",
        "        return self.layers(x)\n"
      ]
    },
    {
      "cell_type": "code",
      "execution_count": 13,
      "metadata": {
        "id": "C6QC_MrfOMQ1"
      },
      "outputs": [],
      "source": [
        "# Instantiate models\n",
        "generator_sat_to_map = SAMGANGenerator().to(device)\n",
        "discriminator_sat_to_map = MultiScaleDiscriminator().to(device)\n",
        "\n",
        "criterion_GAN = nn.MSELoss()\n",
        "criterion_pixelwise = nn.L1Loss()\n",
        "# Define optimizers\n",
        "optimizer_G_sat_to_map = optim.Adam(generator_sat_to_map.parameters(), lr=0.0002, betas=(0.9, 0.999))\n",
        "optimizer_D_sat_to_map = optim.Adam(discriminator_sat_to_map.parameters(), lr=0.0002, betas=(0.9, 0.999))\n",
        "\n",
        "# Define learning rate schedulers\n",
        "scheduler_G_sat_to_map = optim.lr_scheduler.StepLR(optimizer_G_sat_to_map, step_size=50, gamma=0.5)\n",
        "scheduler_D_sat_to_map = optim.lr_scheduler.StepLR(optimizer_D_sat_to_map, step_size=50, gamma=0.5)"
      ]
    },
    {
      "cell_type": "code",
      "execution_count": 14,
      "metadata": {
        "id": "AAiQZJ_HX3G1"
      },
      "outputs": [],
      "source": [
        "\n",
        "save_dir = 'models'\n",
        "os.makedirs(save_dir, exist_ok=True)\n",
        "def save_models(generator_sat_to_map, discriminator_sat_to_map,epoch):\n",
        "    torch.save(generator_sat_to_map.state_dict(), f'{epoch}SAM_GAN_generator_sat_to_map.pth')\n",
        "    torch.save(discriminator_sat_to_map.state_dict(), f'{epoch}discriminatoar_sat_to_map.pth')\n"
      ]
    },
    {
      "cell_type": "code",
      "execution_count": null,
      "metadata": {
        "colab": {
          "base_uri": "https://localhost:8080/"
        },
        "id": "n5AZedBtX3G1",
        "outputId": "73ee5017-8b03-494c-e9db-f9b21a9ee9bb"
      },
      "outputs": [],
      "source": [
        "generator_sat_to_map_path = os.path.join(\"models\", 'prefixSAM_GAN_generator_sat_to_map.pth')\n",
        "discriminatoar_sat_to_map_path = os.path.join('models', 'prefixdiscriminatoar_sat_to_map.pth')\n",
        "\n",
        "if os.path.exists(generator_sat_to_map_path):\n",
        "    generator_sat_to_map.load_state_dict(torch.load(generator_sat_to_map_path, map_location=torch.device('cpu')))\n",
        "    print(f\"Loaded generator_sat_to_map from {generator_sat_to_map_path}\")\n",
        "else:\n",
        "    print(\"No generator checkpoint found, starting from scratch.\")\n",
        "\n",
        "if os.path.exists(discriminatoar_sat_to_map_path):\n",
        "    discriminator_sat_to_map.load_state_dict(torch.load(discriminatoar_sat_to_map_path, map_location=torch.device('cpu')))\n",
        "    print(f\"Loaded discriminator from {discriminatoar_sat_to_map_path}\")\n",
        "else:\n",
        "    print(\"No SAM_GAN_discriminatoar checkpoint found, starting from scratch.\")"
      ]
    },
    {
      "cell_type": "code",
      "execution_count": 21,
      "metadata": {
        "id": "JdijEEHNX3G1"
      },
      "outputs": [],
      "source": [
        "import gc\n",
        "import torchvision.utils as vutils\n",
        "def save_images(real_A, generated_images, real_B, filename):\n",
        "    # Stack images along the batch dimension\n",
        "    all_images = torch.cat((real_A, generated_images, real_B), 0)\n",
        "    # Create a grid of images\n",
        "    grid = vutils.make_grid(all_images, nrow=real_A.size(0), padding=2, normalize=True)\n",
        "    # Save the grid\n",
        "    vutils.save_image(grid, filename)"
      ]
    },
    {
      "cell_type": "code",
      "execution_count": null,
      "metadata": {
        "colab": {
          "base_uri": "https://localhost:8080/",
          "height": 238
        },
        "id": "MclwjI_gOPSO",
        "outputId": "ae27d0e3-db36-4117-a941-5b0fcd75de5f"
      },
      "outputs": [],
      "source": [
        "num_epochs = 200\n",
        "for epoch in range(num_epochs):\n",
        "\n",
        "    generator_sat_to_map.train()\n",
        "    discriminator_sat_to_map.train()\n",
        "    for i, (left_img, right_img) in enumerate(dataloader_train):\n",
        "\n",
        "        #sat to map\n",
        "        left_img_sat_to_map = left_img.to(device)\n",
        "        right_img_sat_to_map = right_img.to(device)\n",
        "        # Train Generator\n",
        "        optimizer_G_sat_to_map.zero_grad()\n",
        "        fake_img = generator_sat_to_map(left_img_sat_to_map)\n",
        "        pred_fake = discriminator_sat_to_map(fake_img)\n",
        "        valid = torch.ones(pred_fake.size(), requires_grad=False).to(device)\n",
        "        loss_GAN = criterion_GAN(pred_fake, valid)\n",
        "        loss_pixel = criterion_pixelwise(fake_img, right_img_sat_to_map)\n",
        "        loss_G_sat_to_map = loss_GAN + 100 * loss_pixel\n",
        "        loss_G_sat_to_map.backward()\n",
        "        optimizer_G_sat_to_map.step()\n",
        "\n",
        "        # Train Discriminator\n",
        "        optimizer_D_sat_to_map.zero_grad()\n",
        "        pred_real = discriminator_sat_to_map(right_img_sat_to_map)\n",
        "        valid = torch.ones(pred_real.size(), requires_grad=False).to(device)\n",
        "        loss_real = criterion_GAN(pred_real, valid)\n",
        "        pred_fake = discriminator_sat_to_map(fake_img.detach())\n",
        "        fake = torch.zeros(pred_fake.size(), requires_grad=False).to(device)\n",
        "        loss_fake = criterion_GAN(pred_fake, fake)\n",
        "        loss_D_sat_to_map = 0.5 * (loss_real + loss_fake)\n",
        "        loss_D_sat_to_map.backward()\n",
        "        optimizer_D_sat_to_map.step()\n",
        "        \n",
        "\n",
        "        if i == 27 and epoch %2 == 0:\n",
        "          generator_sat_to_map.eval()\n",
        "          with torch.no_grad():\n",
        "              generated_images = generator_sat_to_map(left_img_sat_to_map)\n",
        "              show_images3(denormalize(left_img_sat_to_map.cpu()), denormalize(generated_images.cpu()), right_img_sat_to_map.cpu(), title=\"Generated Images Sat -> Map\")\n",
        "              save_images(denormalize(left_img_sat_to_map.cpu()), denormalize(generated_images.cpu()), right_img_sat_to_map.cpu(), f\"epoch_{epoch}_last_batch.png\")\n",
        "    scheduler_G_sat_to_map.step()\n",
        "    scheduler_D_sat_to_map.step()\n",
        "    save_models(generator_sat_to_map, discriminator_sat_to_map,epoch)"
      ]
    },
    {
      "cell_type": "markdown",
      "metadata": {
        "id": "xcjX4uXBfYQE"
      },
      "source": []
    }
  ],
  "metadata": {
    "accelerator": "GPU",
    "colab": {
      "gpuType": "T4",
      "provenance": []
    },
    "kernelspec": {
      "display_name": "Python 3",
      "name": "python3"
    },
    "language_info": {
      "codemirror_mode": {
        "name": "ipython",
        "version": 3
      },
      "file_extension": ".py",
      "mimetype": "text/x-python",
      "name": "python",
      "nbconvert_exporter": "python",
      "pygments_lexer": "ipython3",
      "version": "3.12.4"
    }
  },
  "nbformat": 4,
  "nbformat_minor": 0
}
